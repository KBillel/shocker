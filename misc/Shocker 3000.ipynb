{
 "cells": [
  {
   "cell_type": "code",
   "execution_count": 1,
   "metadata": {},
   "outputs": [
    {
     "name": "stdout",
     "output_type": "stream",
     "text": [
      "error\n",
      "SHOCK for 8000\n",
      "BOTH for 2000\n",
      "SLEEP for 60000\n",
      "SLEEP for 60000\n",
      "SLEEP for 60000\n",
      "SHOCK for 8000\n",
      "TONE for 2000\n",
      "SHOCK for 2000\n",
      "[['18:42:43.374107', 'SHOCK'], ['18:42:43.374107', 'SHOCKTONE'], ['18:42:43.374107', 'SLEEP'], ['18:42:43.374107', 'SLEEP'], ['18:42:43.374107', 'SLEEP'], ['18:42:43.374107', 'SHOCK'], ['18:42:43.374107', 'TONE'], ['18:42:43.375113', 'SHOCK']]\n"
     ]
    },
    {
     "ename": "SystemExit",
     "evalue": "0",
     "output_type": "error",
     "traceback": [
      "An exception has occurred, use %tb to see the full traceback.\n",
      "\u001b[1;31mSystemExit\u001b[0m\u001b[1;31m:\u001b[0m 0\n"
     ]
    },
    {
     "name": "stderr",
     "output_type": "stream",
     "text": [
      "C:\\Users\\billel.khouader\\AppData\\Local\\conda\\conda\\envs\\arduino\\lib\\site-packages\\IPython\\core\\interactiveshell.py:3327: UserWarning: To exit: use 'exit', 'quit', or Ctrl-D.\n",
      "  warn(\"To exit: use 'exit', 'quit', or Ctrl-D.\", stacklevel=1)\n"
     ]
    }
   ],
   "source": [
    "# This Python file uses the following encoding: utf-8\n",
    "import sys\n",
    "from datetime import datetime\n",
    "import time\n",
    "import csv\n",
    "import os\n",
    "\n",
    "from PyQt5.QtWidgets import QApplication\n",
    "from PyQt5.QtWidgets import QMainWindow\n",
    "from PyQt5.QtWidgets import QFileDialog\n",
    "\n",
    "from mainwindow import Ui_MainWindow\n",
    "import arduino\n",
    "\n",
    "class gui:\n",
    "    \n",
    "    protocol = []\n",
    "    save_list = []\n",
    "    username = \"\"\n",
    "    ser = 0\n",
    "\n",
    "    \n",
    "    def __init__(self):    \n",
    "        self.main_win = QMainWindow()\n",
    "        self.ui = Ui_MainWindow()\n",
    "        self.ui.setupUi(self.main_win)\n",
    "        \n",
    "        # Connect\n",
    "        self.ui.connect_button.clicked.connect(self.connect)\n",
    "        self.ui.load_button.clicked.connect(self.get_protocole_file)\n",
    "        self.ui.username_button.clicked.connect(self.get_username)\n",
    "        self.ui.start_button.clicked.connect(self.start_experiment)\n",
    "        self.ui.save_button.clicked.connect(self.save_experiment)\n",
    "        \n",
    "    def show(self):\n",
    "        self.main_win.show()\n",
    "    \n",
    "    \n",
    "    # Action post button pressings.\n",
    "    def connect(self):\n",
    "        if self.ser == 0:\n",
    "            self.COM = self.ui.COM_box.currentText()\n",
    "            self.ser = arduino.connect(self.COM)\n",
    "            if self.ser == 0:\n",
    "                print('error')\n",
    "                self.ser = []\n",
    "            else:\n",
    "                self.ui.arduino_status.setText(\"Arduino connect on port : \"+self.COM)\n",
    "        else:\n",
    "            try:\n",
    "                self.ser.close()\n",
    "            except:\n",
    "                print(\"Could not close Serial\")\n",
    "            \n",
    "            self.COM = self.ui.COM_box.currentText()\n",
    "            self.ser = arduino.connect(self.COM)\n",
    "            if self.ser == 0:\n",
    "                print('error')\n",
    "            else:\n",
    "                self.ui.arduino_status.setText(\"Arduino connect on port : \"+self.COM)\n",
    "            \n",
    "            \n",
    "    \n",
    "        \n",
    "    def get_protocole_file(self):\n",
    "        fileName = QFileDialog.getOpenFileName(self.main_win,\"Open Protocole File\", \"C://Users//billel.khouader//Documents//Shocker_3000\", \"Protocole Files (*.prtcl)\")\n",
    "        protocol_path = fileName[0]\n",
    "        self.protocol = arduino.load_protocol(protocol_path)\n",
    "        \n",
    "        if self.protocol != []:\n",
    "            self.ui.protocol_path.setText(fileName[0])\n",
    "            self.ui.protocol_status.setText(\"Protocol Loaded\")\n",
    "        else:\n",
    "            self.ui.protocol_status.setText(\"Wrong File Format\")\n",
    "        \n",
    "    def get_username(self):\n",
    "        self.username = self.ui.username.text()\n",
    "        \n",
    "    \n",
    "    def start_experiment(self):\n",
    "        \n",
    "        t_start = datetime.now().strftime(\"%Y%d%m\") \n",
    "        if self.protocol == []:\n",
    "            self.ui.protocol_status.setText(\"Protocol Not Loaded\")\n",
    "            return 0\n",
    "        if self.ser == []:\n",
    "            self.ui.arduino_status.setText(\"Arduino not connected\")\n",
    "            return 0\n",
    "        \n",
    "        self.ui.experiment_status.setText(\"Experiment running\")\n",
    "        time.sleep(0.5)\n",
    "        for i in self.protocol:\n",
    "            d = time.time()\n",
    "            if i[0] == \"SHOCK\":\n",
    "                print(\"SHOCK for \"+str(i[1]))\n",
    "                self.save_list.append([datetime.now().strftime(\"%H:%M:%S.%f\"),\"SHOCK\"])\n",
    "#                 arduino.shock(self.ser,i[1])\n",
    "                \n",
    "            elif i[0] == \"TONE\":\n",
    "                print(\"TONE for \"+str(i[1]))\n",
    "                self.save_list.append([datetime.now().strftime(\"%H:%M:%S.%f\"),\"TONE\"])\n",
    "#                 arduino.tone(self.ser,i[1])\n",
    "                \n",
    "            elif i[0] == \"SHOCKTONE\":\n",
    "                print(\"BOTH for \"+str(i[1]))\n",
    "                self.save_list.append([datetime.now().strftime(\"%H:%M:%S.%f\"),\"SHOCKTONE\"])\n",
    "#                 arduino.shocktone(self.ser,i[1])\n",
    "                \n",
    "            elif i[0] == \"SLEEP\":\n",
    "                print(\"SLEEP for \"+str(i[1]))\n",
    "                self.save_list.append([datetime.now().strftime(\"%H:%M:%S:%f\"),\"SLEEP\"])\n",
    "#                 arduino.sleep(self.ser,i[1])\n",
    "                \n",
    "        self.ui.experiment_status.setText(\"Experiment done\")\n",
    "    def save_experiment(self):\n",
    "        print(self.save_list)\n",
    "        \n",
    "        with open(self.username+t_start+\".csv\", mode='w',newline=\"\") as save_file:\n",
    "            save_writer = csv.writer(save_file, delimiter=',', quotechar='\"', quoting=csv.QUOTE_MINIMAL)\n",
    "            save_writer.writerows(self.save_list)\n",
    "\n",
    "app = QApplication([])\n",
    "window = gui()\n",
    "window.show()\n",
    "sys.exit(app.exec_())"
   ]
  },
  {
   "cell_type": "code",
   "execution_count": 17,
   "metadata": {},
   "outputs": [
    {
     "ename": "ValueError",
     "evalue": "Invalid format string",
     "output_type": "error",
     "traceback": [
      "\u001b[1;31m---------------------------------------------------------------------------\u001b[0m",
      "\u001b[1;31mValueError\u001b[0m                                Traceback (most recent call last)",
      "\u001b[1;32m<ipython-input-17-7d559ef95dba>\u001b[0m in \u001b[0;36m<module>\u001b[1;34m\u001b[0m\n\u001b[1;32m----> 1\u001b[1;33m \u001b[0mtime\u001b[0m\u001b[1;33m.\u001b[0m\u001b[0mstrftime\u001b[0m\u001b[1;33m(\u001b[0m\u001b[1;34m\"%H:%M:%S.%f\"\u001b[0m\u001b[1;33m)\u001b[0m\u001b[1;33m\u001b[0m\u001b[1;33m\u001b[0m\u001b[0m\n\u001b[0m",
      "\u001b[1;31mValueError\u001b[0m: Invalid format string"
     ]
    }
   ],
   "source": []
  },
  {
   "cell_type": "code",
   "execution_count": 8,
   "metadata": {},
   "outputs": [
    {
     "data": {
      "text/plain": [
       "'20200303'"
      ]
     },
     "execution_count": 8,
     "metadata": {},
     "output_type": "execute_result"
    }
   ],
   "source": []
  },
  {
   "cell_type": "code",
   "execution_count": null,
   "metadata": {},
   "outputs": [],
   "source": []
  },
  {
   "cell_type": "code",
   "execution_count": null,
   "metadata": {},
   "outputs": [],
   "source": []
  }
 ],
 "metadata": {
  "kernelspec": {
   "display_name": "Python 3",
   "language": "python",
   "name": "python3"
  },
  "language_info": {
   "codemirror_mode": {
    "name": "ipython",
    "version": 3
   },
   "file_extension": ".py",
   "mimetype": "text/x-python",
   "name": "python",
   "nbconvert_exporter": "python",
   "pygments_lexer": "ipython3",
   "version": "3.7.6"
  }
 },
 "nbformat": 4,
 "nbformat_minor": 2
}
